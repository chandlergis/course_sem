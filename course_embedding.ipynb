{
 "cells": [
  {
   "cell_type": "markdown",
   "id": "6b7ed06a",
   "metadata": {},
   "source": [
    "# 项目名称语义分析\n",
    "本笔记本演示如何使用OpenAI嵌入和余弦相似度对项目名称进行语义分析，以识别潜在的重复项目。\n"
   ]
  },
  {
   "cell_type": "markdown",
   "id": "46d25661",
   "metadata": {},
   "source": [
    "## 概述\n",
    "1. 环境和依赖配置\n",
    "2. 加载和准备项目数据\n",
    "3. 使用豆包 API生成文本嵌入\n",
    "4. 分析项目名称之间的相似度\n",
    "5. 处理和可视化结果\n"
   ]
  },
  {
   "cell_type": "markdown",
   "id": "4882626e",
   "metadata": {},
   "source": [
    "## 1. 环境和依赖配置\n",
    "首先，安装并导入所需的库，配置OpenAI客户端。"
   ]
  },
  {
   "cell_type": "code",
   "execution_count": null,
   "id": "e4bdfe5c",
   "metadata": {},
   "outputs": [],
   "source": [
    "# Install required packages\n",
    "!pip install openai pandas numpy scikit-learn seaborn matplotlib"
   ]
  },
  {
   "cell_type": "code",
   "execution_count": null,
   "id": "7bf4a3b4",
   "metadata": {},
   "outputs": [],
   "source": [
    "# Import required libraries\n",
    "import os\n",
    "from openai import OpenAI\n",
    "import numpy as np\n",
    "from sklearn.metrics.pairwise import cosine_similarity\n",
    "import pandas as pd\n",
    "import time\n",
    "import seaborn as sns\n",
    "import matplotlib.pyplot as plt\n",
    "\n",
    "# Initialize OpenAI client\n",
    "client = OpenAI(\n",
    "    api_key=\"YOUR_API_KEY\",  # Replace with your API key\n",
    "    base_url=\"https://ark.cn-beijing.volces.com/api/v3\",\n",
    ")"
   ]
  },
  {
   "cell_type": "markdown",
   "id": "47db2330",
   "metadata": {},
   "source": [
    "## 2. 加载和准备数据\n",
    "从Excel文件加载项目数据并准备分析。"
   ]
  },
  {
   "cell_type": "code",
   "execution_count": null,
   "id": "61484907",
   "metadata": {},
   "outputs": [],
   "source": [
    "# Load data from Excel file\n",
    "file_path = \"project_name.xlsx\"  # Update with your file path\n",
    "df = pd.read_excel(file_path)\n",
    "\n",
    "# Extract IDs and project names\n",
    "ids = df.iloc[:, 0].tolist()\n",
    "project_names = df.iloc[:, 1].tolist()\n",
    "\n",
    "print(f\"Loaded {len(project_names)} projects\")\n",
    "print(\"\\nFirst 5 projects:\")\n",
    "for i in range(min(5, len(project_names))):\n",
    "    print(f\"ID: {ids[i]}, Name: {project_names[i]}\")"
   ]
  },
  {
   "cell_type": "markdown",
   "id": "c097eb14",
   "metadata": {},
   "source": [
    "## 3. 文本嵌入生成\n",
    "实现带有批处理和错误处理的嵌入生成函数。"
   ]
  },
  {
   "cell_type": "code",
   "execution_count": null,
   "id": "89fe7005",
   "metadata": {},
   "outputs": [],
   "source": [
    "def get_embeddings(texts, batch_size=100):\n",
    "    \"\"\"\n",
    "    Generate embeddings for a list of texts using batch processing\n",
    "    \"\"\"\n",
    "    embeddings = []\n",
    "    for i in range(0, len(texts), batch_size):\n",
    "        batch = texts[i:i + batch_size]\n",
    "        print(f\"Processing batch {i // batch_size + 1} of {len(texts) // batch_size + 1}\")\n",
    "        try:\n",
    "            resp = client.embeddings.create(\n",
    "                model=\"doubao-embedding-text-240515\",\n",
    "                input=batch,\n",
    "                encoding_format=\"float\"\n",
    "            )\n",
    "            batch_embeddings = [item.embedding for item in resp.data]\n",
    "            embeddings.extend(batch_embeddings)\n",
    "        except Exception as e:\n",
    "            print(f\"Error in batch {i}: {e}\")\n",
    "        time.sleep(1)  # Rate limiting\n",
    "    return embeddings\n",
    "\n",
    "# Generate embeddings\n",
    "print(\"----- Starting embeddings generation -----\")\n",
    "embeddings = get_embeddings(project_names)\n",
    "embeddings = np.array(embeddings)\n",
    "print(f\"\\nGenerated embeddings shape: {embeddings.shape}\")"
   ]
  },
  {
   "cell_type": "markdown",
   "id": "b42bb59c",
   "metadata": {},
   "source": [
    "## 4. 相似度分析\n",
    "计算相似度矩阵并识别相似的项目对。"
   ]
  },
  {
   "cell_type": "code",
   "execution_count": null,
   "id": "721cff02",
   "metadata": {},
   "outputs": [],
   "source": [
    "# Calculate similarity matrix\n",
    "print(\"----- Calculating similarity matrix -----\")\n",
    "similarity_matrix = cosine_similarity(embeddings)\n",
    "\n",
    "# Find similar projects\n",
    "threshold = 0.9\n",
    "duplicates = []\n",
    "\n",
    "for i in range(len(project_names)):\n",
    "    for j in range(i + 1, len(project_names)):\n",
    "        if similarity_matrix[i][j] > threshold:\n",
    "            duplicate_entry = {\n",
    "                \"ID_1\": ids[i],\n",
    "                \"Project_Name_1\": project_names[i],\n",
    "                \"ID_2\": ids[j],\n",
    "                \"Project_Name_2\": project_names[j],\n",
    "                \"Similarity\": similarity_matrix[i][j]\n",
    "            }\n",
    "            duplicates.append(duplicate_entry)\n",
    "\n",
    "print(f\"\\nFound {len(duplicates)} potential duplicate pairs\")"
   ]
  },
  {
   "cell_type": "markdown",
   "id": "e8b77b4d",
   "metadata": {},
   "source": [
    "## 5. 结果处理和可视化\n",
    "可视化相似度矩阵并导出结果。"
   ]
  },
  {
   "cell_type": "code",
   "execution_count": null,
   "id": "7568fd0c",
   "metadata": {},
   "outputs": [],
   "source": [
    "# Visualize similarity matrix\n",
    "plt.figure(figsize=(10, 8))\n",
    "sns.heatmap(similarity_matrix, cmap='YlOrRd')\n",
    "plt.title('Project Name Similarity Matrix')\n",
    "plt.show()\n",
    "\n",
    "# Create and display results DataFrame\n",
    "if duplicates:\n",
    "    output_df = pd.DataFrame(duplicates)\n",
    "    print(\"\\nTop 10 most similar project pairs:\")\n",
    "    display(output_df.sort_values('Similarity', ascending=False).head(10))\n",
    "    \n",
    "    # Export results\n",
    "    output_path = \"duplicate_projects.xlsx\"\n",
    "    output_df.to_excel(output_path, index=False)\n",
    "    print(f\"\\nResults exported to {output_path}\")\n",
    "else:\n",
    "    print(\"\\nNo duplicates found above threshold\")"
   ]
  },
  {
   "cell_type": "markdown",
   "id": "6b7fcb46",
   "metadata": {},
   "source": [
    "## Summary\n",
    "This notebook has demonstrated:\n",
    "1. How to process project names using OpenAI embeddings\n",
    "2. How to calculate semantic similarity between project names\n",
    "3. How to identify and visualize potential duplicate projects\n",
    "4. How to export and analyze results\n",
    "\n",
    "The threshold value (0.9) can be adjusted based on your specific needs - lower values will catch more potential duplicates but may include more false positives."
   ]
  }
 ],
 "metadata": {
  "language_info": {
   "name": "python"
  }
 },
 "nbformat": 4,
 "nbformat_minor": 5
}
